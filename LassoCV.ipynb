{
 "cells": [
  {
   "cell_type": "code",
   "execution_count": 1,
   "metadata": {},
   "outputs": [],
   "source": [
    "# Implementation to find the best alpha for lasso using cv"
   ]
  },
  {
   "cell_type": "code",
   "execution_count": 8,
   "metadata": {},
   "outputs": [],
   "source": []
  },
  {
   "cell_type": "code",
   "execution_count": 9,
   "metadata": {},
   "outputs": [
    {
     "name": "stdout",
     "output_type": "stream",
     "text": [
      "0.0001 [ 4.38725041e-01  9.60573216e-03 -1.02607317e-01  6.13113796e-01\n",
      " -7.60040055e-06 -4.48887838e-03 -4.17236219e-01 -4.30443252e-01]\n",
      "0.00021544346900318845 [ 4.38302495e-01  9.61391144e-03 -1.01794733e-01  6.08938831e-01\n",
      " -7.56305472e-06 -4.48945068e-03 -4.17101115e-01 -4.30245638e-01]\n",
      "0.00046415888336127773 [ 4.37392131e-01  9.63153273e-03 -1.00044046e-01  5.99944032e-01\n",
      " -7.48259718e-06 -4.49068359e-03 -4.16810078e-01 -4.29819929e-01]\n",
      "0.001 [ 4.35430588e-01  9.66949146e-03 -9.62719961e-02  5.80564052e-01\n",
      " -7.30927570e-06 -4.49333892e-03 -4.16183481e-01 -4.28903173e-01]\n",
      "0.002154434690031882 [ 4.31204047e-01  9.75125876e-03 -8.81446225e-02  5.38808130e-01\n",
      " -6.93591112e-06 -4.49905750e-03 -4.14834520e-01 -4.26929052e-01]\n",
      "0.004641588833612777 [ 4.22097249e-01  9.92739780e-03 -7.06333349e-02  4.48842020e-01\n",
      " -6.13160704e-06 -4.51137374e-03 -4.11930165e-01 -4.22677769e-01]\n",
      "0.01 [ 4.02474124e-01  1.03068044e-02 -3.29020231e-02  2.54997948e-01\n",
      " -4.39905667e-06 -4.53789547e-03 -4.05678899e-01 -4.13524436e-01]\n",
      "0.021544346900318822 [ 3.86045217e-01  1.09616724e-02  0.00000000e+00  4.92723567e-02\n",
      " -2.26244480e-06 -4.50793925e-03 -3.73337007e-01 -3.77001287e-01]\n",
      "0.046415888336127774 [ 3.88955581e-01  1.22883904e-02  0.00000000e+00  0.00000000e+00\n",
      "  2.33744383e-06 -4.30435240e-03 -2.85299474e-01 -2.83164858e-01]\n",
      "0.1 [ 3.95666352e-01  1.53279870e-02 -0.00000000e+00  0.00000000e+00\n",
      "  1.53002856e-05 -3.84935540e-03 -1.08253597e-01 -9.38537333e-02]\n"
     ]
    },
    {
     "name": "stderr",
     "output_type": "stream",
     "text": [
      "/usr/local/lib/python3.7/site-packages/sklearn/model_selection/_split.py:1978: FutureWarning: The default value of cv will change from 3 to 5 in version 0.22. Specify it explicitly to silence this warning.\n",
      "  warnings.warn(CV_WARNING, FutureWarning)\n"
     ]
    },
    {
     "name": "stdout",
     "output_type": "stream",
     "text": [
      "CV [ 3.81485543e-01  1.12872676e-02  2.20440782e-03  0.00000000e+00\n",
      "  1.88778147e-06 -3.51349405e-03 -3.39002345e-01 -3.39456784e-01]\n"
     ]
    },
    {
     "data": {
      "image/png": "[encoded data removed]",
      "text/plain": [
       "<Figure size 432x288 with 1 Axes>"
      ]
     },
     "metadata": {
      "needs_background": "light"
     },
     "output_type": "display_data"
    }
   ],
   "source": [
    "import matplotlib.pyplot as plt\n",
    "import numpy as np\n",
    "import seaborn as sns\n",
    "import sklearn.datasets\n",
    "from sklearn.model_selection import train_test_split\n",
    "from sklearn import linear_model\n",
    "\n",
    "dataset = sklearn.datasets.fetch_california_housing()\n",
    "X = dataset['data']\n",
    "y = dataset['target']\n",
    "X_train, X_test, y_train, y_test = train_test_split(X, y, test_size=0.25, random_state=0)\n",
    "\n",
    "alphas = np.logspace(-4, -1, 10)\n",
    "scores = np.empty_like(alphas)\n",
    "for i,a in enumerate(alphas):\n",
    "    lasso = linear_model.Lasso()\n",
    "    lasso.set_params(alpha=a)\n",
    "    lasso.fit(X_train, y_train)\n",
    "    scores[i] = lasso.score(X_test, y_test)\n",
    "    print(a, lasso.coef_)\n",
    "    \n",
    "lassocv = linear_model.LassoCV()\n",
    "lassocv.fit(X, y)\n",
    "lassocv_score = lassocv.score(X, y)\n",
    "lassocv_alpha = lassocv.alpha_\n",
    "print('CV', lassocv.coef_)\n",
    "\n",
    "plt.plot(alphas, scores, '-ko')\n",
    "plt.axhline(lassocv_score, color='b', ls='--')\n",
    "plt.axvline(lassocv_alpha, color='b', ls='--')\n",
    "plt.xlabel(r'$\\alpha$')\n",
    "plt.ylabel('Score')import seaborn as sns\n",
    "plt.xscale('log')\n",
    "sns.despine(offset=15)"
   ]
  },
  {
   "cell_type": "code",
   "execution_count": null,
   "metadata": {},
   "outputs": [],
   "source": []
  }
 ],
 "metadata": {
  "kernelspec": {
   "display_name": "Python 3",
   "language": "python",
   "name": "python3"
  },
  "language_info": {
   "codemirror_mode": {
    "name": "ipython",
    "version": 3
   },
   "file_extension": ".py",
   "mimetype": "text/x-python",
   "name": "python",
   "nbconvert_exporter": "python",
   "pygments_lexer": "ipython3",
   "version": "3.7.4"
  }
 },
 "nbformat": 4,
 "nbformat_minor": 2
}
