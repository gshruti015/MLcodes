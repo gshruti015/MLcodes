{
 "cells": [
  {
   "cell_type": "code",
   "execution_count": 7,
   "metadata": {},
   "outputs": [
    {
     "name": "stdout",
     "output_type": "stream",
     "text": [
      "['cant', 'railway', 'station']\n",
      "[('cant', 'railway'), ('railway', 'station')]\n",
      "['citadel', 'hotel']\n",
      "[('citadel', 'hotel')]\n",
      "['police', 'stn']\n",
      "[('police', 'stn')]\n"
     ]
    }
   ],
   "source": [
    "from nltk import word_tokenize \n",
    "from nltk.util import ngrams\n",
    "\n",
    "\n",
    "text = ['cant railway station', 'citadel hotel', 'police stn']\n",
    "for line in text:\n",
    "    token = nltk.word_tokenize(line)\n",
    "    bigram = list(ngrams(token, 2)) \n",
    "    print(token)\n",
    "    print(bigram)"
   ]
  },
  {
   "cell_type": "code",
   "execution_count": null,
   "metadata": {},
   "outputs": [],
   "source": [
    "# filename = 'metamorphosis_clean.txt'\n",
    "# file = open(filename, 'rt')\n",
    "text = 'i am a lazy brown foz who jumped over the dog'\n",
    "# file.close()\n",
    "# split into words\n",
    "from nltk.tokenize import word_tokenize\n",
    "tokens = word_tokenize(text)\n",
    "# convert to lower case\n",
    "tokens = [w.lower() for w in tokens]\n",
    "# remove punctuation from each word\n",
    "import string\n",
    "table = str.maketrans('', '', string.punctuation)\n",
    "stripped = [w.translate(table) for w in tokens]\n",
    "# remove remaining tokens that are not alphabetic\n",
    "words = [word for word in stripped if word.isalpha()]\n",
    "# filter out stop words\n",
    "from nltk.corpus import stopwords\n",
    "stop_words = set(stopwords.words('english'))\n",
    "words = [w for w in words if not w in stop_words]\n",
    "print(words[:100])"
   ]
  },
  {
   "cell_type": "code",
   "execution_count": null,
   "metadata": {},
   "outputs": [],
   "source": [
    "text = ['cant railway station', 'citadel hotel', 'police stn']\n",
    "for line in text:\n",
    "    token = nltk.word_tokenize(line)\n",
    "    bigram = list(ngrams(token, 2)) \n",
    "    print(token)\n",
    "    print(bigram)"
   ]
  },
  {
   "cell_type": "markdown",
   "metadata": {},
   "source": [
    "#### argsort "
   ]
  },
  {
   "cell_type": "code",
   "execution_count": null,
   "metadata": {},
   "outputs": [],
   "source": [
    "import statistics\n",
    "\n",
    "ll = [100]\n",
    "statistics.median(ll)\n",
    "import numpy\n",
    "numpy.argsort(ll)[len(ll)//2]"
   ]
  },
  {
   "cell_type": "markdown",
   "metadata": {},
   "source": [
    "#### Understanding normalization vs Standariazaion"
   ]
  },
  {
   "cell_type": "code",
   "execution_count": 1,
   "metadata": {},
   "outputs": [
    {
     "data": {
      "text/html": [
       "<div>\n",
       "<style scoped>\n",
       "    .dataframe tbody tr th:only-of-type {\n",
       "        vertical-align: middle;\n",
       "    }\n",
       "\n",
       "    .dataframe tbody tr th {\n",
       "        vertical-align: top;\n",
       "    }\n",
       "\n",
       "    .dataframe thead th {\n",
       "        text-align: right;\n",
       "    }\n",
       "</style>\n",
       "<table border=\"1\" class=\"dataframe\">\n",
       "  <thead>\n",
       "    <tr style=\"text-align: right;\">\n",
       "      <th></th>\n",
       "      <th>num_legs</th>\n",
       "      <th>num_wings</th>\n",
       "      <th>num_specimen_seen</th>\n",
       "    </tr>\n",
       "  </thead>\n",
       "  <tbody>\n",
       "    <tr>\n",
       "      <td>0</td>\n",
       "      <td>-1</td>\n",
       "      <td>2</td>\n",
       "      <td>10</td>\n",
       "    </tr>\n",
       "    <tr>\n",
       "      <td>1</td>\n",
       "      <td>-8</td>\n",
       "      <td>0</td>\n",
       "      <td>2</td>\n",
       "    </tr>\n",
       "    <tr>\n",
       "      <td>2</td>\n",
       "      <td>8</td>\n",
       "      <td>0</td>\n",
       "      <td>1</td>\n",
       "    </tr>\n",
       "    <tr>\n",
       "      <td>3</td>\n",
       "      <td>0</td>\n",
       "      <td>0</td>\n",
       "      <td>8</td>\n",
       "    </tr>\n",
       "    <tr>\n",
       "      <td>4</td>\n",
       "      <td>1</td>\n",
       "      <td>5</td>\n",
       "      <td>3</td>\n",
       "    </tr>\n",
       "  </tbody>\n",
       "</table>\n",
       "</div>"
      ],
      "text/plain": [
       "   num_legs  num_wings  num_specimen_seen\n",
       "0        -1          2                 10\n",
       "1        -8          0                  2\n",
       "2         8          0                  1\n",
       "3         0          0                  8\n",
       "4         1          5                  3"
      ]
     },
     "execution_count": 1,
     "metadata": {},
     "output_type": "execute_result"
    }
   ],
   "source": [
    "from sklearn import preprocessing\n",
    "import numpy as np\n",
    "import pandas as pd\n",
    "\n",
    "df = pd.DataFrame({'num_legs': [-1, -8, 8, 0, 1, -3, 5, -20, 11, -4],\n",
    "                   'num_wings': [2, 0, 0, 0, 5, 6, 2, 1, 6, 12],\n",
    "                   'num_specimen_seen': [10, 2, 1, 8, 3, 4, 7, 11, 4, 5]})\n",
    "df.head()"
   ]
  },
  {
   "cell_type": "code",
   "execution_count": 6,
   "metadata": {},
   "outputs": [
    {
     "name": "stdout",
     "output_type": "stream",
     "text": [
      "[[ 0.01204819 -0.38188131  1.40556386]\n",
      " [-0.8313253  -0.92742603 -1.09321633]\n",
      " [ 1.09638554 -0.92742603 -1.40556386]\n",
      " [ 0.13253012 -0.92742603  0.78086881]\n",
      " [ 0.25301205  0.43643578 -0.78086881]\n",
      " [-0.22891566  0.70920814 -0.46852129]\n",
      " [ 0.73493976 -0.38188131  0.46852129]\n",
      " [-2.27710843 -0.65465367  1.71791138]\n",
      " [ 1.45783133  0.70920814 -0.46852129]\n",
      " [-0.34939759  2.34584232 -0.15617376]]\n"
     ]
    },
    {
     "data": {
      "text/html": [
       "<div>\n",
       "<style scoped>\n",
       "    .dataframe tbody tr th:only-of-type {\n",
       "        vertical-align: middle;\n",
       "    }\n",
       "\n",
       "    .dataframe tbody tr th {\n",
       "        vertical-align: top;\n",
       "    }\n",
       "\n",
       "    .dataframe thead th {\n",
       "        text-align: right;\n",
       "    }\n",
       "</style>\n",
       "<table border=\"1\" class=\"dataframe\">\n",
       "  <thead>\n",
       "    <tr style=\"text-align: right;\">\n",
       "      <th></th>\n",
       "      <th>num_legs</th>\n",
       "      <th>num_wings</th>\n",
       "      <th>num_specimen_seen</th>\n",
       "    </tr>\n",
       "  </thead>\n",
       "  <tbody>\n",
       "    <tr>\n",
       "      <td>0</td>\n",
       "      <td>0.012048</td>\n",
       "      <td>-0.381881</td>\n",
       "      <td>1.405564</td>\n",
       "    </tr>\n",
       "    <tr>\n",
       "      <td>1</td>\n",
       "      <td>-0.831325</td>\n",
       "      <td>-0.927426</td>\n",
       "      <td>-1.093216</td>\n",
       "    </tr>\n",
       "    <tr>\n",
       "      <td>2</td>\n",
       "      <td>1.096386</td>\n",
       "      <td>-0.927426</td>\n",
       "      <td>-1.405564</td>\n",
       "    </tr>\n",
       "    <tr>\n",
       "      <td>3</td>\n",
       "      <td>0.132530</td>\n",
       "      <td>-0.927426</td>\n",
       "      <td>0.780869</td>\n",
       "    </tr>\n",
       "    <tr>\n",
       "      <td>4</td>\n",
       "      <td>0.253012</td>\n",
       "      <td>0.436436</td>\n",
       "      <td>-0.780869</td>\n",
       "    </tr>\n",
       "    <tr>\n",
       "      <td>5</td>\n",
       "      <td>-0.228916</td>\n",
       "      <td>0.709208</td>\n",
       "      <td>-0.468521</td>\n",
       "    </tr>\n",
       "    <tr>\n",
       "      <td>6</td>\n",
       "      <td>0.734940</td>\n",
       "      <td>-0.381881</td>\n",
       "      <td>0.468521</td>\n",
       "    </tr>\n",
       "    <tr>\n",
       "      <td>7</td>\n",
       "      <td>-2.277108</td>\n",
       "      <td>-0.654654</td>\n",
       "      <td>1.717911</td>\n",
       "    </tr>\n",
       "    <tr>\n",
       "      <td>8</td>\n",
       "      <td>1.457831</td>\n",
       "      <td>0.709208</td>\n",
       "      <td>-0.468521</td>\n",
       "    </tr>\n",
       "    <tr>\n",
       "      <td>9</td>\n",
       "      <td>-0.349398</td>\n",
       "      <td>2.345842</td>\n",
       "      <td>-0.156174</td>\n",
       "    </tr>\n",
       "  </tbody>\n",
       "</table>\n",
       "</div>"
      ],
      "text/plain": [
       "   num_legs  num_wings  num_specimen_seen\n",
       "0  0.012048  -0.381881           1.405564\n",
       "1 -0.831325  -0.927426          -1.093216\n",
       "2  1.096386  -0.927426          -1.405564\n",
       "3  0.132530  -0.927426           0.780869\n",
       "4  0.253012   0.436436          -0.780869\n",
       "5 -0.228916   0.709208          -0.468521\n",
       "6  0.734940  -0.381881           0.468521\n",
       "7 -2.277108  -0.654654           1.717911\n",
       "8  1.457831   0.709208          -0.468521\n",
       "9 -0.349398   2.345842          -0.156174"
      ]
     },
     "execution_count": 6,
     "metadata": {},
     "output_type": "execute_result"
    }
   ],
   "source": [
    "standardized_df = preprocessing.scale(df)\n",
    "print(standardized_df)\n",
    "\n",
    "\n",
    "# Get column names first\n",
    "names = df.columns\n",
    "# Create the Scaler object\n",
    "scaler = preprocessing.StandardScaler()\n",
    "# Fit your data on the scaler object\n",
    "scaled_df = scaler.fit_transform(df)\n",
    "scaled_df = pd.DataFrame(scaled_df, columns=names)\n",
    "scaled_df"
   ]
  },
  {
   "cell_type": "code",
   "execution_count": 5,
   "metadata": {},
   "outputs": [
    {
     "name": "stdout",
     "output_type": "stream",
     "text": [
      "[[-0.09759001  0.19518001  0.97590007]\n",
      " [-0.9701425   0.          0.24253563]\n",
      " [ 0.99227788  0.          0.12403473]\n",
      " [ 0.          0.          1.        ]\n",
      " [ 0.16903085  0.84515425  0.50709255]\n",
      " [-0.38411064  0.76822128  0.51214752]\n",
      " [ 0.56613852  0.22645541  0.79259392]\n",
      " [-0.87537622  0.04376881  0.48145692]\n",
      " [ 0.83631451  0.45617155  0.30411437]\n",
      " [-0.29408585  0.88225755  0.36760731]]\n",
      "   num_legs  num_wings  num_specimen_seen\n",
      "0  0.612903   0.166667                0.9\n",
      "1  0.387097   0.000000                0.1\n",
      "2  0.903226   0.000000                0.0\n",
      "3  0.645161   0.000000                0.7\n",
      "4  0.677419   0.416667                0.2\n",
      "5  0.548387   0.500000                0.3\n",
      "6  0.806452   0.166667                0.6\n",
      "7  0.000000   0.083333                1.0\n",
      "8  1.000000   0.500000                0.3\n",
      "9  0.516129   1.000000                0.4\n"
     ]
    }
   ],
   "source": [
    "normalized_df = preprocessing.normalize(df)\n",
    "print(normalized_df)\n",
    "\n",
    "scaler1 = preprocessing.MinMaxScaler()\n",
    "scaled_df1 = scaler1.fit_transform(df)\n",
    "scaled_df1 = pd.DataFrame(scaled_df1, columns=names)\n",
    "print(scaled_df1)"
   ]
  },
  {
   "cell_type": "code",
   "execution_count": 3,
   "metadata": {},
   "outputs": [
    {
     "data": {
      "text/plain": [
       "[<matplotlib.lines.Line2D at 0x10ad6a450>]"
      ]
     },
     "execution_count": 3,
     "metadata": {},
     "output_type": "execute_result"
    },
    {
     "data": {
      "image/png": "[encoded data removed]",
      "text/plain": [
       "<Figure size 432x288 with 1 Axes>"
      ]
     },
     "metadata": {},
     "output_type": "display_data"
    }
   ],
   "source": [
    "import matplotlib.pyplot as plt\n",
    "plt.style.use('seaborn-whitegrid')\n",
    "import numpy as np\n",
    "\n",
    "fig = plt.figure()\n",
    "ax = plt.axes()\n",
    "\n",
    "# x = np.linspace(0, 10, 1000)\n",
    "x = [0,1]\n",
    "y = [0,1]\n",
    "ax.plot(x, y, 'g--')"
   ]
  },
  {
   "cell_type": "code",
   "execution_count": null,
   "metadata": {},
   "outputs": [],
   "source": []
  }
 ],
 "metadata": {
  "kernelspec": {
   "display_name": "Python 3",
   "language": "python",
   "name": "python3"
  },
  "language_info": {
   "codemirror_mode": {
    "name": "ipython",
    "version": 3
   },
   "file_extension": ".py",
   "mimetype": "text/x-python",
   "name": "python",
   "nbconvert_exporter": "python",
   "pygments_lexer": "ipython3",
   "version": "3.7.4"
  }
 },
 "nbformat": 4,
 "nbformat_minor": 2
}
